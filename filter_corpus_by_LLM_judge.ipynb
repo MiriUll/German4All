{
 "cells": [
  {
   "cell_type": "code",
   "id": "initial_id",
   "metadata": {
    "collapsed": true
   },
   "source": [
    "import pandas as pd\n",
    "\n",
    "g4a_main_eval = pd.read_csv(\"evaluation/judge_outputs/LLM_judge_g4a_few_shot_new_main_train_all.csv\")\n",
    "g4a_main_eval.rename(columns={\"variable\": \"cl\"}, inplace=True)\n",
    "g4a_main_eval.head()"
   ],
   "outputs": [],
   "execution_count": null
  },
  {
   "metadata": {},
   "cell_type": "code",
   "source": [
    "filter_ids_content_falsch = set(g4a_main_eval[g4a_main_eval.LLM_judge_content_preservation == \"falsch\"].id.values)\n",
    "len(filter_ids_content_falsch)"
   ],
   "id": "85a7c1f0f7150833",
   "outputs": [],
   "execution_count": null
  },
  {
   "metadata": {},
   "cell_type": "code",
   "source": [
    "filter_ids_zu_einfach = set(g4a_main_eval[(g4a_main_eval.LLM_judge_complexity_level.isin([\"zu_einfach\"])) & (g4a_main_eval.cl != \"cl_1\")].id.values)\n",
    "filter_ids_zu_kompliziert = set(g4a_main_eval[(g4a_main_eval.LLM_judge_complexity_level.isin([\"zu_kompliziert\"])) & (g4a_main_eval.cl != \"cl_5\")].id.values)\n",
    "print(\"zu einfach\", len(g4a_main_eval[(g4a_main_eval.LLM_judge_complexity_level.isin([\"zu_einfach\"]))]))\n",
    "print(\"zu kompliziert\", len(g4a_main_eval[(g4a_main_eval.LLM_judge_complexity_level.isin([\"zu_kompliziert\"]))]))\n",
    "len(filter_ids_zu_einfach), len(filter_ids_zu_kompliziert)"
   ],
   "id": "bf1f8f5489defe14",
   "outputs": [],
   "execution_count": null
  },
  {
   "metadata": {},
   "cell_type": "code",
   "source": [
    "filter_ids_information_loss = set(g4a_main_eval[(g4a_main_eval.LLM_judge_information_loss.isin([\"haeufig\"])) & (g4a_main_eval.cl.isin([\"cl_5\"]))].id.values)\n",
    "filter_ids_information_add = set(g4a_main_eval[(g4a_main_eval.LLM_judge_information_addition.isin([\"haeufig\"])) & (g4a_main_eval.cl != \"cl_5\")].id.values)\n",
    "len(filter_ids_information_loss), len(filter_ids_information_add)"
   ],
   "id": "b02e3c4bc64a956b",
   "outputs": [],
   "execution_count": null
  },
  {
   "metadata": {},
   "cell_type": "code",
   "source": [
    "for _, row in g4a_main_eval[(g4a_main_eval.LLM_judge_information_loss.isin([\"haeufig\"])) & (~g4a_main_eval.cl.isin([\"cl_1\", \"cl_2\", \"cl_3\"]))].sample(20).iterrows():\n",
    "    print(row.id, \"- Orig:\", row.text)\n",
    "    print(\"Para:\", row.paraphrased_text)\n",
    "    print(\"CL: \", row.cl)\n",
    "    print()"
   ],
   "id": "62c9785e4a09594d",
   "outputs": [],
   "execution_count": null
  },
  {
   "metadata": {},
   "cell_type": "code",
   "source": [
    "from ast import literal_eval\n",
    "\n",
    "g4a_main_eval[\"LLM_judge_type_of_addition\"] = g4a_main_eval[\"LLM_judge_type_of_addition\"].apply(literal_eval)\n",
    "g4a_main_eval_explode = g4a_main_eval.explode(\"LLM_judge_type_of_addition\")\n",
    "filter_ids_inkorrekte_Informationen = set(g4a_main_eval_explode[(g4a_main_eval_explode.LLM_judge_type_of_addition.isin([\"Faktisch_inkorrekte_Informationen\"]))].id.values)\n",
    "filter_ids_Andere = set(g4a_main_eval_explode[(g4a_main_eval_explode.LLM_judge_type_of_addition.isin([\"Andere\"]))].id.values)\n",
    "filter_ids_korrekte_Informationen = set(g4a_main_eval_explode[(g4a_main_eval_explode.LLM_judge_type_of_addition.isin([\"Faktisch_korrekte_Informationen\"])) & (g4a_main_eval_explode.cl != \"cl_5\")].id.values)\n",
    "len(filter_ids_inkorrekte_Informationen), len(filter_ids_korrekte_Informationen), len(filter_ids_Andere)"
   ],
   "id": "6c3bd5f82b2e8538",
   "outputs": [],
   "execution_count": null
  },
  {
   "metadata": {},
   "cell_type": "code",
   "source": [
    "for _, row in g4a_main_eval_explode[(g4a_main_eval_explode.LLM_judge_type_of_addition.isin([\"Faktisch_inkorrekte_Informationen\"]))].iterrows():\n",
    "    print(\"Orig:\", row.text)\n",
    "    print(\"Para:\", row.paraphrased_text)\n",
    "    print(\"CL: \", row.cl)\n",
    "    print()"
   ],
   "id": "f24cff39e189ca39",
   "outputs": [],
   "execution_count": null
  },
  {
   "metadata": {},
   "cell_type": "code",
   "source": [
    "for _, row in g4a_main_eval_explode[(g4a_main_eval_explode.LLM_judge_type_of_addition.isin([\"Faktisch_korrekte_Informationen\"]))\n",
    "    #].iterrows():\n",
    "    & (g4a_main_eval_explode.cl != \"cl_5\")].iterrows():\n",
    "    print(\"Orig:\", row.text)\n",
    "    print(\"Para:\", row.paraphrased_text)\n",
    "    print(\"CL: \", row.cl)\n",
    "    print()"
   ],
   "id": "a4d07eff24ea3fdc",
   "outputs": [],
   "execution_count": null
  },
  {
   "metadata": {},
   "cell_type": "code",
   "source": "g4a_main_eval[g4a_main_eval.LLM_judge_complexity_level != \"passend\"].hist(column=\"LLM_judge_complexity_level\", by=\"cl\")",
   "id": "58f6e080ca0a560b",
   "outputs": [],
   "execution_count": null
  },
  {
   "metadata": {},
   "cell_type": "code",
   "source": [
    "all_filter_ids = set()\n",
    "all_filter_ids.add(2018814)\n",
    "all_filter_ids.add(753704)\n",
    "for filter_ids in [\n",
    "    filter_ids_content_falsch, filter_ids_zu_einfach, filter_ids_zu_kompliziert, filter_ids_inkorrekte_Informationen,\n",
    "    filter_ids_Andere, filter_ids_korrekte_Informationen,\n",
    "    filter_ids_information_loss\n",
    "]:\n",
    "    all_filter_ids = all_filter_ids.union(filter_ids)\n",
    "len(all_filter_ids)"
   ],
   "id": "523f73c6301110a3",
   "outputs": [],
   "execution_count": null
  },
  {
   "metadata": {},
   "cell_type": "code",
   "source": [
    "german4all_main = pd.read_csv(\"../German4All-Corpus/main/train.csv\")\n",
    "print(len(german4all_main))"
   ],
   "id": "73c2503d392fee78",
   "outputs": [],
   "execution_count": null
  },
  {
   "metadata": {},
   "cell_type": "code",
   "source": [
    "german4all_main_filtered = german4all_main[~german4all_main.id.isin(all_filter_ids)]\n",
    "print(len(german4all_main_filtered))"
   ],
   "id": "bda1c2fb2cf11f5e",
   "outputs": [],
   "execution_count": null
  },
  {
   "metadata": {},
   "cell_type": "code",
   "source": "german4all_main_filtered.to_csv(\"../German4All-Corpus/main/train.csv\", index=False)",
   "id": "e4436c10efc0882e",
   "outputs": [],
   "execution_count": null
  }
 ],
 "metadata": {
  "kernelspec": {
   "display_name": "Python 3",
   "language": "python",
   "name": "python3"
  },
  "language_info": {
   "codemirror_mode": {
    "name": "ipython",
    "version": 2
   },
   "file_extension": ".py",
   "mimetype": "text/x-python",
   "name": "python",
   "nbconvert_exporter": "python",
   "pygments_lexer": "ipython2",
   "version": "2.7.6"
  }
 },
 "nbformat": 4,
 "nbformat_minor": 5
}
